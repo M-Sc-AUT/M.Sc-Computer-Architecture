{
 "cells": [
  {
   "cell_type": "code",
   "execution_count": 1,
   "metadata": {},
   "outputs": [],
   "source": [
    "from functools import reduce\n",
    "from math import comb"
   ]
  },
  {
   "cell_type": "code",
   "execution_count": 2,
   "metadata": {},
   "outputs": [],
   "source": [
    "def series_reliability(*reliabilities):\n",
    "    \"\"\"\n",
    "    Calculate the reliability of a series system.\n",
    "    \"\"\"\n",
    "    return reduce(lambda x, y: x * y, reliabilities)\n",
    "\n",
    "def parallel_reliability(*reliabilities):\n",
    "    \"\"\"\n",
    "    Calculate the reliability of a parallel system.\n",
    "    \"\"\"\n",
    "    return 1 - reduce(lambda x, y: x * y, [(1 - r) for r in reliabilities])\n",
    "\n",
    "def m_of_n_reliability(m, n, reliability):\n",
    "    \"\"\"\n",
    "    Calculate the reliability of an m-of-n system.\n",
    "    \"\"\"\n",
    "    total_reliability = 0\n",
    "    for i in range(m, n + 1):\n",
    "        total_reliability += comb(n, i) * (reliability ** i) * ((1 - reliability) ** (n - i))\n",
    "    return total_reliability\n",
    "\n",
    "def calculate_reliability(paths):\n",
    "    \"\"\"\n",
    "    Calculate the total reliability of the system based on input paths.\n",
    "    \"\"\"\n",
    "    # Group paths by start and end nodes\n",
    "    grouped_paths = {}\n",
    "    for (start, end, reliability) in paths:\n",
    "        if (start, end) not in grouped_paths:\n",
    "            grouped_paths[(start, end)] = []\n",
    "        grouped_paths[(start, end)].append(reliability)\n",
    "\n",
    "    # Calculate reliability for each unique path\n",
    "    path_reliabilities = {}\n",
    "    for path, reliabilities in grouped_paths.items():\n",
    "        if len(reliabilities) == 1:\n",
    "            # Single path, no parallel combination\n",
    "            path_reliabilities[path] = reliabilities[0]\n",
    "        else:\n",
    "            # Parallel combination\n",
    "            path_reliabilities[path] = parallel_reliability(*reliabilities)\n",
    "\n",
    "    # Combine all paths in series\n",
    "    total_reliability = series_reliability(*path_reliabilities.values())\n",
    "    return total_reliability"
   ]
  },
  {
   "cell_type": "code",
   "execution_count": 8,
   "metadata": {},
   "outputs": [
    {
     "name": "stdout",
     "output_type": "stream",
     "text": [
      "Enter system configuration (e.g., A-1-2-0.9, B-2-4-0.85, 2of3-1-2-0.5):\n",
      "Total System Reliability: 0.8075\n"
     ]
    }
   ],
   "source": [
    "if __name__ == \"__main__\":\n",
    "    print(\"Enter system configuration (e.g., A-1-2-0.9, B-2-4-0.85, 2of3-1-2-0.5):\")\n",
    "    system_input = input(\"Paths: \").strip().split(\", \")\n",
    "    paths = []\n",
    "    \n",
    "    for entry in system_input:\n",
    "        if \"of\" in entry:\n",
    "            # Handle m-of-n system\n",
    "            m_of_n, start, end, reliability = entry.split(\"-\")\n",
    "            m, n = map(int, m_of_n.split(\"of\"))\n",
    "            paths.append((int(start), int(end), m_of_n_reliability(m, n, float(reliability))))\n",
    "        else:\n",
    "            # Handle regular system\n",
    "            comp, start, end, reliability = entry.split(\"-\")\n",
    "            paths.append((int(start), int(end), float(reliability)))\n",
    "\n",
    "    # Calculate total reliability\n",
    "    total_reliability = calculate_reliability(paths)\n",
    "    print(f\"Total System Reliability: {total_reliability:.4f}\")"
   ]
  }
 ],
 "metadata": {
  "kernelspec": {
   "display_name": "Python 3",
   "language": "python",
   "name": "python3"
  },
  "language_info": {
   "codemirror_mode": {
    "name": "ipython",
    "version": 3
   },
   "file_extension": ".py",
   "mimetype": "text/x-python",
   "name": "python",
   "nbconvert_exporter": "python",
   "pygments_lexer": "ipython3",
   "version": "3.12.3"
  }
 },
 "nbformat": 4,
 "nbformat_minor": 2
}
