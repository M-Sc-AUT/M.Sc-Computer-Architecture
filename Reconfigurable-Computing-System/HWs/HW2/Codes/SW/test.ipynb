{
 "cells": [
  {
   "cell_type": "code",
   "execution_count": 1,
   "metadata": {},
   "outputs": [],
   "source": [
    "import numpy as np"
   ]
  },
  {
   "cell_type": "code",
   "execution_count": 4,
   "metadata": {},
   "outputs": [],
   "source": [
    "def convolve(x, kernel):\n",
    "    x_height = x.shape[0]\n",
    "    x_width = x.shape[1]\n",
    "    \n",
    "    kernel_height = kernel.shape[0]\n",
    "    kernel_width = kernel.shape[1]\n",
    "    \n",
    "    H = (kernel_height - 1) // 2\n",
    "    W = (kernel_width - 1) // 2\n",
    "    \n",
    "    out = np.zeros((x_height, x_width))\n",
    "    # iterate over all the pixel of image X\n",
    "    for i in np.arange(H, x_height - H):\n",
    "        for j in np.arange(W, x_width - W):\n",
    "            sum = 0\n",
    "            # iterate over the filter\n",
    "            for k in np.arange(-H, H + 1):\n",
    "                for l in np.arange(-W, W + 1):\n",
    "                    # get the corresponding value from image and filter\n",
    "                    a = x[i + k, j + l]\n",
    "                    w = kernel[H + k, W + l]\n",
    "                    sum += (w * a)\n",
    "            out[i, j] = sum\n",
    "    return out"
   ]
  },
  {
   "cell_type": "code",
   "execution_count": 5,
   "metadata": {},
   "outputs": [],
   "source": [
    "# Define the 3x3 kernel\n",
    "x_kernel = np.array([[-1, 0, 1],\n",
    "                     [-1, 0, 1],\n",
    "                     [-1, 0, 1]])"
   ]
  },
  {
   "cell_type": "code",
   "execution_count": 44,
   "metadata": {},
   "outputs": [
    {
     "name": "stdout",
     "output_type": "stream",
     "text": [
      "Input Matrix (5x5):\n",
      "[[130 251  32 ... 247  21  53]\n",
      " [ 86 183 180 ...  48 100  35]\n",
      " [197 191  38 ... 130 151  65]\n",
      " ...\n",
      " [158 157 210 ...  28 162 108]\n",
      " [128 184 142 ...  59 245 108]\n",
      " [152 210  33 ... 225 188 209]]\n"
     ]
    }
   ],
   "source": [
    "x = np.random.randint(0, 256, (128, 128), dtype=np.uint8)\n",
    "print(\"Input Matrix (5x5):\")\n",
    "print(x)"
   ]
  },
  {
   "cell_type": "code",
   "execution_count": 43,
   "metadata": {},
   "outputs": [
    {
     "name": "stdout",
     "output_type": "stream",
     "text": [
      "\n",
      "Output Matrix after Convolution:\n",
      "[[   0.    0.    0.    0.    0.    0.    0.    0.    0.    0.]\n",
      " [   0.  -76. -103.  332.   89. -286.   16.  -28. -210.    0.]\n",
      " [   0.  -72.   77.  158. -216. -139.  106.  -61.  -76.    0.]\n",
      " [   0.   -3. -189.  -12.  -82.   78.  -25.  -85.  -27.    0.]\n",
      " [   0. -231. -258.  -54.  -26.   -5.  -94.   23.   42.    0.]\n",
      " [   0. -119. -285. -114.  -83.   83.   19. -100.  142.    0.]\n",
      " [   0.  -29. -148. -271.   41.  123.  -87.   41.  186.    0.]\n",
      " [   0.  140.  -31. -326. -172.  353.   64.  -55.  268.    0.]\n",
      " [   0.  397. -103. -540.   46.  344.  170.  148.    7.    0.]\n",
      " [   0.    0.    0.    0.    0.    0.    0.    0.    0.    0.]]\n"
     ]
    }
   ],
   "source": [
    "output = convolve(x, x_kernel)\n",
    "print(\"\\nOutput Matrix after Convolution:\")\n",
    "print(output)"
   ]
  },
  {
   "cell_type": "code",
   "execution_count": 50,
   "metadata": {},
   "outputs": [
    {
     "name": "stdout",
     "output_type": "stream",
     "text": [
      "C array saved to c_array_128x128.txt\n"
     ]
    }
   ],
   "source": [
    "import numpy as np\n",
    "\n",
    "# Define the size of the array\n",
    "ROWS = 128\n",
    "COLS = 128\n",
    "\n",
    "# Generate a ROWS x COLS array of random 8-bit integers (0-255)\n",
    "array = np.random.randint(0, 256, size=(ROWS, COLS))\n",
    "\n",
    "# Convert the array to C array format\n",
    "c_array_str = f\"int x[ROWS][COLS] = {{\\n\"\n",
    "for row in array:\n",
    "    c_array_str += \"    {\" + \", \".join(map(str, row)) + \"},\\n\"\n",
    "c_array_str = c_array_str.rstrip(\",\\n\") + \"\\n};\"\n",
    "\n",
    "# Save to a text file\n",
    "with open(\"c_array.txt\", \"w\") as file:\n",
    "    file.write(c_array_str)\n",
    "\n",
    "print(\"C array saved to c_array_128x128.txt\")\n"
   ]
  }
 ],
 "metadata": {
  "kernelspec": {
   "display_name": "Python 3",
   "language": "python",
   "name": "python3"
  },
  "language_info": {
   "codemirror_mode": {
    "name": "ipython",
    "version": 3
   },
   "file_extension": ".py",
   "mimetype": "text/x-python",
   "name": "python",
   "nbconvert_exporter": "python",
   "pygments_lexer": "ipython3",
   "version": "3.12.3"
  }
 },
 "nbformat": 4,
 "nbformat_minor": 2
}
