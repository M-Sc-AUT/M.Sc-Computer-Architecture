{
 "cells": [
  {
   "cell_type": "code",
   "execution_count": 1,
   "metadata": {},
   "outputs": [],
   "source": [
    "import numpy as np"
   ]
  },
  {
   "cell_type": "code",
   "execution_count": 4,
   "metadata": {},
   "outputs": [],
   "source": [
    "def convolve(x, kernel):\n",
    "    x_height = x.shape[0]\n",
    "    x_width = x.shape[1]\n",
    "    \n",
    "    kernel_height = kernel.shape[0]\n",
    "    kernel_width = kernel.shape[1]\n",
    "    \n",
    "    H = (kernel_height - 1) // 2\n",
    "    W = (kernel_width - 1) // 2\n",
    "    \n",
    "    out = np.zeros((x_height, x_width))\n",
    "    # iterate over all the pixel of image X\n",
    "    for i in np.arange(H, x_height - H):\n",
    "        for j in np.arange(W, x_width - W):\n",
    "            sum = 0\n",
    "            # iterate over the filter\n",
    "            for k in np.arange(-H, H + 1):\n",
    "                for l in np.arange(-W, W + 1):\n",
    "                    # get the corresponding value from image and filter\n",
    "                    a = x[i + k, j + l]\n",
    "                    w = kernel[H + k, W + l]\n",
    "                    sum += (w * a)\n",
    "            out[i, j] = sum\n",
    "    return out"
   ]
  },
  {
   "cell_type": "code",
   "execution_count": 5,
   "metadata": {},
   "outputs": [],
   "source": [
    "# Define the 3x3 kernel\n",
    "x_kernel = np.array([[-1, 0, 1],\n",
    "                     [-1, 0, 1],\n",
    "                     [-1, 0, 1]])"
   ]
  },
  {
   "cell_type": "code",
   "execution_count": 35,
   "metadata": {},
   "outputs": [
    {
     "name": "stdout",
     "output_type": "stream",
     "text": [
      "Input Matrix (5x5):\n",
      "[[ 65  63 227  76 135]\n",
      " [146  99 179   3 191]\n",
      " [ 83 150 223 143 230]\n",
      " [248  47 153  41 253]\n",
      " [ 30 248 114 163 218]]\n"
     ]
    }
   ],
   "source": [
    "x = np.random.randint(0, 256, (5, 5), dtype=np.uint8)\n",
    "print(\"Input Matrix (5x5):\")\n",
    "print(x)"
   ]
  },
  {
   "cell_type": "code",
   "execution_count": 36,
   "metadata": {},
   "outputs": [
    {
     "name": "stdout",
     "output_type": "stream",
     "text": [
      "\n",
      "Output Matrix after Convolution:\n",
      "[[   0.    0.    0.    0.    0.]\n",
      " [   0.  335.  -90.  -73.    0.]\n",
      " [   0.   78. -109.  119.    0.]\n",
      " [   0.  129.  -98.  211.    0.]\n",
      " [   0.    0.    0.    0.    0.]]\n"
     ]
    }
   ],
   "source": [
    "output = convolve(x, x_kernel)\n",
    "print(\"\\nOutput Matrix after Convolution:\")\n",
    "print(output)"
   ]
  }
 ],
 "metadata": {
  "kernelspec": {
   "display_name": "Python 3",
   "language": "python",
   "name": "python3"
  },
  "language_info": {
   "codemirror_mode": {
    "name": "ipython",
    "version": 3
   },
   "file_extension": ".py",
   "mimetype": "text/x-python",
   "name": "python",
   "nbconvert_exporter": "python",
   "pygments_lexer": "ipython3",
   "version": "3.12.3"
  }
 },
 "nbformat": 4,
 "nbformat_minor": 2
}
