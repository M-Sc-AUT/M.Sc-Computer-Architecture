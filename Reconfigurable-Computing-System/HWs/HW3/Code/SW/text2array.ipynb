{
 "cells": [
  {
   "cell_type": "code",
   "execution_count": 2,
   "metadata": {},
   "outputs": [
    {
     "name": "stdout",
     "output_type": "stream",
     "text": [
      "C array saved to c_array_128x128.txt\n"
     ]
    }
   ],
   "source": [
    "import numpy as np\n",
    "\n",
    "# Define the size of the array\n",
    "ROWS = 28\n",
    "COLS = 28\n",
    "\n",
    "array = np.loadtxt(\"Data/Input_MNIST_Images/digit_0.txt\", dtype=np.uint8)\n",
    "\n",
    "# Convert the array to C array format\n",
    "c_array_str = f\"int x[ROWS][COLS] = {{\\n\"\n",
    "for row in array:\n",
    "    c_array_str += \"    {\" + \", \".join(map(str, row)) + \"},\\n\"\n",
    "c_array_str = c_array_str.rstrip(\",\\n\") + \"\\n};\"\n",
    "\n",
    "# Save to a text file\n",
    "with open(\"c_array.txt\", \"w\") as file:\n",
    "    file.write(c_array_str)\n",
    "\n",
    "print(\"C array saved to c_array_128x128.txt\")\n"
   ]
  }
 ],
 "metadata": {
  "kernelspec": {
   "display_name": "Python 3",
   "language": "python",
   "name": "python3"
  },
  "language_info": {
   "codemirror_mode": {
    "name": "ipython",
    "version": 3
   },
   "file_extension": ".py",
   "mimetype": "text/x-python",
   "name": "python",
   "nbconvert_exporter": "python",
   "pygments_lexer": "ipython3",
   "version": "3.12.3"
  }
 },
 "nbformat": 4,
 "nbformat_minor": 2
}
