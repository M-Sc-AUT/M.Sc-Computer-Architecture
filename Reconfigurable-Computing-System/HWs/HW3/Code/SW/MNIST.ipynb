{
 "cells": [
  {
   "cell_type": "markdown",
   "metadata": {},
   "source": [
    "### 1. Importing Libraries"
   ]
  },
  {
   "cell_type": "code",
   "execution_count": 40,
   "metadata": {},
   "outputs": [],
   "source": [
    "import numpy as np\n",
    "import matplotlib.pyplot as plt\n",
    "import os\n",
    "from tensorflow.keras.datasets import mnist"
   ]
  },
  {
   "cell_type": "markdown",
   "metadata": {},
   "source": [
    "### 2. Loading the MNIST Dataset"
   ]
  },
  {
   "cell_type": "code",
   "execution_count": 41,
   "metadata": {},
   "outputs": [],
   "source": [
    "(x_train, y_train), _ = mnist.load_data()"
   ]
  },
  {
   "cell_type": "markdown",
   "metadata": {},
   "source": [
    "### 3. Selecting One Random Image per Digit"
   ]
  },
  {
   "cell_type": "code",
   "execution_count": 61,
   "metadata": {},
   "outputs": [],
   "source": [
    "np.random.seed(0)\n",
    "selected_images = []\n",
    "labels = np.arange(10)\n",
    "\n",
    "for label in labels:\n",
    "    indices = np.where(y_train == label)[0]\n",
    "    random_index = np.random.choice(indices)\n",
    "    selected_images.append(x_train[random_index])"
   ]
  },
  {
   "cell_type": "markdown",
   "metadata": {},
   "source": [
    "### 3. Saving Images to a .txt File"
   ]
  },
  {
   "cell_type": "code",
   "execution_count": 63,
   "metadata": {},
   "outputs": [
    {
     "name": "stdout",
     "output_type": "stream",
     "text": [
      "Saved selected images to 'Data/Input_MNIST_Images' directory.\n"
     ]
    }
   ],
   "source": [
    "save_dir = \"Data/Input_MNIST_Images\"\n",
    "if(not os.path.exists(save_dir)):\n",
    "    os.makedirs(save_dir)\n",
    "\n",
    "for idx, image in enumerate(selected_images):\n",
    "    filename = os.path.join(save_dir, f\"digit_{idx}.txt\")\n",
    "    with open(filename, 'w') as f:\n",
    "        # f.write(f'Digit: {idx}\\n')\n",
    "        np.savetxt(f, image, fmt='%d')\n",
    "        f.write('\\n')\n",
    "\n",
    "print(f\"Saved selected images to '{save_dir}' directory.\")"
   ]
  },
  {
   "cell_type": "markdown",
   "metadata": {},
   "source": [
    "### 4. Defining the Convolution Function from Scratch"
   ]
  },
  {
   "cell_type": "code",
   "execution_count": 64,
   "metadata": {},
   "outputs": [],
   "source": [
    "def convolve(image, kernel, stride=1):\n",
    "    image_height, image_width = image.shape\n",
    "    kernel_height, kernel_width = kernel.shape\n",
    "    \n",
    "    output_height = (image_height - kernel_height) // stride + 1\n",
    "    output_width = (image_width - kernel_width) // stride + 1\n",
    "    \n",
    "    output = np.zeros((output_height, output_width))\n",
    "    \n",
    "    for i in range(0, output_height):\n",
    "        for j in range(0, output_width):\n",
    "            region = image[i*stride:i*stride+kernel_height, j*stride:j*stride+kernel_width]\n",
    "            output[i, j] = np.sum(region * kernel)\n",
    "    return output"
   ]
  },
  {
   "cell_type": "markdown",
   "metadata": {},
   "source": [
    "### 5. Generating Three Random 3×3 Kernels"
   ]
  },
  {
   "cell_type": "code",
   "execution_count": 77,
   "metadata": {},
   "outputs": [
    {
     "data": {
      "text/plain": [
       "array([[[0, 1, 0],\n",
       "        [1, 0, 0],\n",
       "        [0, 0, 0]],\n",
       "\n",
       "       [[1, 0, 1],\n",
       "        [0, 1, 1],\n",
       "        [1, 1, 1]],\n",
       "\n",
       "       [[0, 1, 0],\n",
       "        [1, 0, 1],\n",
       "        [0, 0, 0]]])"
      ]
     },
     "execution_count": 77,
     "metadata": {},
     "output_type": "execute_result"
    }
   ],
   "source": [
    "np.random.seed(0)\n",
    "\n",
    "# kernels = [np.random.randn(3, 3) for _ in range(3)]\n",
    "# kernels = [np.random.randint(0, 255, [3, 3]) for _ in range(3)]\n",
    "\n",
    "kernels = np.array([[[0, 1, 0], \n",
    "                     [1, 0, 0], \n",
    "                     [0, 0, 0]],\n",
    "\n",
    "                    [[1, 0, 1], \n",
    "                     [0, 1, 1], \n",
    "                     [1, 1, 1]],\n",
    "\n",
    "                    [[0, 1, 0], \n",
    "                     [1, 0, 1], \n",
    "                     [0, 0, 0]]])\n",
    "\n",
    "kernels"
   ]
  },
  {
   "cell_type": "markdown",
   "metadata": {},
   "source": [
    "### 6. Convolving Each Image with Each Kernel"
   ]
  },
  {
   "cell_type": "code",
   "execution_count": 78,
   "metadata": {},
   "outputs": [
    {
     "name": "stdout",
     "output_type": "stream",
     "text": [
      "Final shape of image after all convolutions: (22, 22)\n"
     ]
    }
   ],
   "source": [
    "convolved_images = []\n",
    "for image in selected_images:\n",
    "    result = image\n",
    "    for kernel in kernels:\n",
    "        result = convolve(result, kernel)\n",
    "    convolved_images.append(result)\n",
    "    \n",
    "print(f\"Final shape of image after all convolutions: {result.shape}\")\n",
    "num_digits = len(selected_images)"
   ]
  },
  {
   "cell_type": "markdown",
   "metadata": {},
   "source": [
    "### 7. Saving Result Images to a .txt File"
   ]
  },
  {
   "cell_type": "code",
   "execution_count": 79,
   "metadata": {},
   "outputs": [
    {
     "name": "stdout",
     "output_type": "stream",
     "text": [
      "Saved convolved images to 'Data/MNIST_Convolved_Images' directory.\n"
     ]
    }
   ],
   "source": [
    "save_dir = \"Data/MNIST_Convolved_Images\"\n",
    "if(not os.path.exists(save_dir)):\n",
    "    os.makedirs(save_dir)\n",
    "\n",
    "for idx, convolved_image in enumerate(convolved_images):\n",
    "    filename = os.path.join(save_dir, f\"convolved_digit_{idx}.txt\")\n",
    "    with open(filename, 'w') as f:\n",
    "        f.write(f'Convolved Image for Digit: {idx}\\n')\n",
    "        np.savetxt(f, convolved_image, fmt='%d')\n",
    "        f.write('\\n')\n",
    "\n",
    "print(f\"Saved convolved images to '{save_dir}' directory.\")"
   ]
  },
  {
   "cell_type": "markdown",
   "metadata": {},
   "source": [
    "### 8. Plotting All Results"
   ]
  },
  {
   "cell_type": "code",
   "execution_count": 81,
   "metadata": {},
   "outputs": [
    {
     "data": {
      "image/png": "[encoded data removed]",
      "text/plain": [
       "<Figure size 2000x500 with 20 Axes>"
      ]
     },
     "metadata": {},
     "output_type": "display_data"
    }
   ],
   "source": [
    "fig, axes = plt.subplots(2, 10, figsize=(20, 5))\n",
    "\n",
    "for i in range(num_digits):\n",
    "    axes[0, i].imshow(selected_images[i], cmap=\"gray\")\n",
    "    axes[0, i].set_title(f\"Original {i}\")\n",
    "    axes[0, i].axis(\"off\")\n",
    "\n",
    "for i in range(num_digits):\n",
    "    axes[1, i].imshow(convolved_images[i], cmap=\"gray\")\n",
    "    axes[1, i].set_title(f\"Convolved {i}\")\n",
    "    axes[1, i].axis(\"off\")\n",
    "\n",
    "plt.tight_layout()\n",
    "plt.show()"
   ]
  }
 ],
 "metadata": {
  "kernelspec": {
   "display_name": "Python 3",
   "language": "python",
   "name": "python3"
  },
  "language_info": {
   "codemirror_mode": {
    "name": "ipython",
    "version": 3
   },
   "file_extension": ".py",
   "mimetype": "text/x-python",
   "name": "python",
   "nbconvert_exporter": "python",
   "pygments_lexer": "ipython3",
   "version": "3.12.3"
  }
 },
 "nbformat": 4,
 "nbformat_minor": 2
}
